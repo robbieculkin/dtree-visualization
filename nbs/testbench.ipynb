{
 "cells": [
  {
   "cell_type": "code",
   "execution_count": 2,
   "metadata": {},
   "outputs": [],
   "source": [
    "import numpy as np\n",
    "import pandas as pd\n",
    "\n",
    "from sklearn.model_selection import train_test_split\n",
    "from sklearn.datasets import load_iris\n",
    "from sklearn.tree import DecisionTreeClassifier"
   ]
  },
  {
   "cell_type": "markdown",
   "metadata": {},
   "source": [
    "## Generate `sklearn` side:  Iris dataset"
   ]
  },
  {
   "cell_type": "code",
   "execution_count": 3,
   "metadata": {},
   "outputs": [],
   "source": [
    "iris = load_iris()\n",
    "feature_names = iris['feature_names']\n",
    "X = pd.DataFrame(iris.data, columns=feature_names)\n",
    "y = iris.target\n",
    "X_train, X_test, y_train, y_test = train_test_split(X, y, random_state=0)"
   ]
  },
  {
   "cell_type": "code",
   "execution_count": 4,
   "metadata": {},
   "outputs": [
    {
     "data": {
      "text/plain": [
       "DecisionTreeClassifier(class_weight=None, criterion='gini', max_depth=None,\n",
       "                       max_features=None, max_leaf_nodes=3,\n",
       "                       min_impurity_decrease=0.0, min_impurity_split=None,\n",
       "                       min_samples_leaf=1, min_samples_split=2,\n",
       "                       min_weight_fraction_leaf=0.0, presort=False,\n",
       "                       random_state=0, splitter='best')"
      ]
     },
     "execution_count": 4,
     "metadata": {},
     "output_type": "execute_result"
    }
   ],
   "source": [
    "estimator = DecisionTreeClassifier(max_leaf_nodes=3, random_state=0)\n",
    "estimator.fit(X_train, y_train)"
   ]
  },
  {
   "cell_type": "code",
   "execution_count": 5,
   "metadata": {},
   "outputs": [],
   "source": [
    "node_count = estimator.tree_.node_count\n",
    "children_left = estimator.tree_.children_left\n",
    "children_right = estimator.tree_.children_right\n",
    "feature = estimator.tree_.feature\n",
    "threshold = estimator.tree_.threshold"
   ]
  },
  {
   "cell_type": "code",
   "execution_count": 6,
   "metadata": {},
   "outputs": [
    {
     "name": "stdout",
     "output_type": "stream",
     "text": [
      "5 nodes in the tree\n"
     ]
    }
   ],
   "source": [
    "print(node_count, 'nodes in the tree')"
   ]
  },
  {
   "cell_type": "code",
   "execution_count": 7,
   "metadata": {},
   "outputs": [
    {
     "data": {
      "text/plain": [
       "array([ 3, -2,  2, -2, -2])"
      ]
     },
     "execution_count": 7,
     "metadata": {},
     "output_type": "execute_result"
    }
   ],
   "source": [
    "feature"
   ]
  },
  {
   "cell_type": "markdown",
   "metadata": {
    "collapsed": true
   },
   "source": [
    "## Put in graph format for cyto\n",
    "nodes and edges"
   ]
  },
  {
   "cell_type": "code",
   "execution_count": 10,
   "metadata": {},
   "outputs": [],
   "source": [
    "elements = []\n",
    "for node in range(node_count):\n",
    "    #nodes\n",
    "    elements.append(\n",
    "        {'data':\n",
    "            {'id': str(node), \n",
    "             'label': str(feature_names[feature[node]])\n",
    "            }\n",
    "        } \n",
    "    )\n",
    "    \n",
    "    #edges\n",
    "    if children_left[node] != -1:\n",
    "        elements.append(\n",
    "            {'data':\n",
    "                {'source': node,\n",
    "                 'target': children_left[node]\n",
    "                }\n",
    "            }\n",
    "        )\n",
    "    if children_right[node] != -1:\n",
    "        elements.append(\n",
    "            {'data':\n",
    "                {'source': node,\n",
    "                 'target': children_right[node]\n",
    "                }\n",
    "            }\n",
    "        )"
   ]
  },
  {
   "cell_type": "code",
   "execution_count": 11,
   "metadata": {},
   "outputs": [
    {
     "data": {
      "text/plain": [
       "[{'data': {'id': '0', 'label': 'petal width (cm)'}},\n",
       " {'data': {'source': 0, 'target': 1}},\n",
       " {'data': {'source': 0, 'target': 2}},\n",
       " {'data': {'id': '1', 'label': 'petal length (cm)'}},\n",
       " {'data': {'id': '2', 'label': 'petal length (cm)'}},\n",
       " {'data': {'source': 2, 'target': 3}},\n",
       " {'data': {'source': 2, 'target': 4}},\n",
       " {'data': {'id': '3', 'label': 'petal length (cm)'}},\n",
       " {'data': {'id': '4', 'label': 'petal length (cm)'}}]"
      ]
     },
     "execution_count": 11,
     "metadata": {},
     "output_type": "execute_result"
    }
   ],
   "source": [
    "elements"
   ]
  },
  {
   "cell_type": "markdown",
   "metadata": {},
   "source": [
    "## IMDB"
   ]
  },
  {
   "cell_type": "code",
   "execution_count": 10,
   "metadata": {},
   "outputs": [],
   "source": [
    "from sklearn.feature_extraction.text import CountVectorizer"
   ]
  },
  {
   "cell_type": "code",
   "execution_count": 11,
   "metadata": {},
   "outputs": [
    {
     "data": {
      "text/plain": [
       "DecisionTreeClassifier(class_weight=None, criterion='gini', max_depth=None,\n",
       "                       max_features=None, max_leaf_nodes=10,\n",
       "                       min_impurity_decrease=0.0, min_impurity_split=None,\n",
       "                       min_samples_leaf=1, min_samples_split=2,\n",
       "                       min_weight_fraction_leaf=0.0, presort=False,\n",
       "                       random_state=0, splitter='best')"
      ]
     },
     "execution_count": 11,
     "metadata": {},
     "output_type": "execute_result"
    }
   ],
   "source": [
    "imdb = pd.read_csv('../data/imdb_labelled.txt', sep='\\t')\n",
    "imdb.columns = ['text', 'sentiment']\n",
    "\n",
    "cv = CountVectorizer()\n",
    "X = cv.fit_transform(imdb['text'])\n",
    "y = imdb['sentiment']\n",
    "\n",
    "feature_names = cv.get_feature_names()\n",
    "\n",
    "estimator = DecisionTreeClassifier(max_leaf_nodes=10, random_state=0)\n",
    "estimator.fit(X, y)"
   ]
  },
  {
   "cell_type": "code",
   "execution_count": 24,
   "metadata": {},
   "outputs": [
    {
     "name": "stdout",
     "output_type": "stream",
     "text": [
      "[ 221  124   -2    0 3012  103   -2  439   -2 1005   -2 2992   -2 1563\n",
      "   -2   -2   -2   -2   -2]\n"
     ]
    },
    {
     "ename": "AttributeError",
     "evalue": "'sklearn.tree._tree.Tree' object has no attribute 'TREE_LEAF'",
     "output_type": "error",
     "traceback": [
      "\u001b[0;31m---------------------------------------------------------------------------\u001b[0m",
      "\u001b[0;31mAttributeError\u001b[0m                            Traceback (most recent call last)",
      "\u001b[0;32m<ipython-input-24-220400a74701>\u001b[0m in \u001b[0;36m<module>\u001b[0;34m\u001b[0m\n\u001b[1;32m      1\u001b[0m \u001b[0;31m# -2 means leaf\u001b[0m\u001b[0;34m\u001b[0m\u001b[0;34m\u001b[0m\u001b[0;34m\u001b[0m\u001b[0m\n\u001b[1;32m      2\u001b[0m \u001b[0mprint\u001b[0m\u001b[0;34m(\u001b[0m\u001b[0mestimator\u001b[0m\u001b[0;34m.\u001b[0m\u001b[0mtree_\u001b[0m\u001b[0;34m.\u001b[0m\u001b[0mfeature\u001b[0m\u001b[0;34m)\u001b[0m\u001b[0;34m\u001b[0m\u001b[0;34m\u001b[0m\u001b[0m\n\u001b[0;32m----> 3\u001b[0;31m \u001b[0mprint\u001b[0m\u001b[0;34m(\u001b[0m\u001b[0mestimator\u001b[0m\u001b[0;34m.\u001b[0m\u001b[0mtree_\u001b[0m\u001b[0;34m.\u001b[0m\u001b[0mTREE_LEAF\u001b[0m\u001b[0;34m)\u001b[0m\u001b[0;34m\u001b[0m\u001b[0;34m\u001b[0m\u001b[0m\n\u001b[0m",
      "\u001b[0;31mAttributeError\u001b[0m: 'sklearn.tree._tree.Tree' object has no attribute 'TREE_LEAF'"
     ]
    }
   ],
   "source": [
    "# -2 means leaf\n",
    "print(estimator.tree_.feature)\n",
    "print(estimator.tree_.TREE_LEAF)"
   ]
  },
  {
   "cell_type": "code",
   "execution_count": 17,
   "metadata": {},
   "outputs": [
    {
     "data": {
      "text/plain": [
       "'zombie'"
      ]
     },
     "execution_count": 17,
     "metadata": {},
     "output_type": "execute_result"
    }
   ],
   "source": [
    "feature_names[-2]"
   ]
  },
  {
   "cell_type": "code",
   "execution_count": 20,
   "metadata": {},
   "outputs": [],
   "source": [
    "leaf_id = estimator.apply(X)"
   ]
  },
  {
   "cell_type": "code",
   "execution_count": 21,
   "metadata": {},
   "outputs": [
    {
     "data": {
      "text/plain": [
       "array([15,  8, 15, 15, 15, 15, 17, 15, 15, 17, 15, 17, 15, 15, 17, 12, 12,\n",
       "       15,  6, 10, 15, 17, 17, 15, 10, 17, 15, 15, 15, 15, 15, 15, 15, 17,\n",
       "       17, 15, 17, 17, 15,  2,  2, 15, 15, 15, 17, 15, 17, 17, 17, 17, 15,\n",
       "       17, 15, 15, 17, 15, 15, 16, 12, 17, 12, 17, 15, 10, 16, 15, 17, 15,\n",
       "        6, 17, 15, 15, 12, 15, 15, 15, 17, 15, 17, 15, 17, 15, 17, 17, 17,\n",
       "        2, 17, 15, 15, 15, 15, 15, 15, 15, 17, 15, 15, 15, 15, 15, 15, 17,\n",
       "       15, 17,  2,  2, 15, 15, 17, 17, 15, 15, 12, 15, 15, 15, 15, 15, 15,\n",
       "       15, 15, 15, 15, 15, 15,  2, 15, 15, 15, 15, 15, 15, 17, 15,  2,  2,\n",
       "       17, 17, 17, 15, 15, 17, 15, 17, 12, 17, 15, 15,  2, 15, 15, 15,  2,\n",
       "       15, 10, 17, 17, 10, 17, 17, 15, 15, 17, 15, 15, 17, 15, 17, 17, 15,\n",
       "       15, 15, 15, 15, 15, 15, 17, 15, 17, 17, 17, 15, 17, 14, 17, 15, 17,\n",
       "       12, 15, 17, 17, 17, 15, 17, 17, 17,  8, 15, 15, 17, 17, 17, 12, 17,\n",
       "       17, 17, 15, 16, 15, 15, 15, 15, 15, 15, 15, 15, 17,  2, 15,  2, 15,\n",
       "       15, 17, 17, 15, 17,  2, 15,  2,  2, 17,  2,  6,  6, 15, 17, 17, 15,\n",
       "       17, 10, 12, 17, 17,  2,  2, 15, 15, 17, 15, 10, 12,  2, 17, 17, 15,\n",
       "       15, 15, 17, 15, 10, 17,  2,  2, 17, 12, 15, 15, 15, 15, 12, 18, 15,\n",
       "       15, 17, 17,  2, 15,  8, 15,  2, 15, 17,  6, 17, 15, 17, 15, 10, 15,\n",
       "        6, 15, 17, 17, 15, 15, 17, 17, 17, 17, 12, 12, 12, 17, 17, 15, 17,\n",
       "       12, 12, 12, 12, 17, 15, 15, 15, 15, 17,  2, 15,  2,  2, 15, 15, 15,\n",
       "        2, 15,  6, 15, 17, 17, 15, 15, 15, 15, 15, 17, 15, 17, 17, 12, 15,\n",
       "       15, 12, 12, 17, 12, 15, 17, 15,  6, 17, 17, 15,  2,  2,  2, 17,  2,\n",
       "       15,  2, 15, 15, 15, 15, 15, 18, 15, 17, 15, 15, 15, 15, 15, 12, 15,\n",
       "        8, 12, 18, 15, 12, 17, 15, 15, 15, 15, 15, 15, 15, 15, 15, 17, 15,\n",
       "       15,  2, 17, 17, 17, 15, 17, 17, 17, 15, 17, 15, 17, 15, 17, 15, 15,\n",
       "       15, 17, 12, 12, 15, 17, 15, 15, 15, 10, 17, 17, 15, 17, 17, 17, 17,\n",
       "       15, 12, 15, 17, 17, 17, 17, 12, 10, 17, 15, 17, 17, 12, 17, 15, 15,\n",
       "       12, 17, 15, 15, 15, 12, 15, 17, 17, 12, 17, 10, 15, 15, 17, 17, 17,\n",
       "       17, 17, 17, 17, 12, 17, 17, 15, 14, 15, 17, 12, 15, 17, 15, 15, 17,\n",
       "       15, 15, 17, 12, 15, 17, 12, 17, 12, 17, 15, 15, 10, 17,  2, 15, 12,\n",
       "       15, 15, 15, 15,  2, 17,  2,  2, 12, 15,  2, 15, 12, 15,  6,  2, 15,\n",
       "       15, 15, 15, 17, 12, 12, 15, 15, 15,  2, 15, 12, 15,  2, 15, 15, 15,\n",
       "       15, 15, 17, 14, 17, 17, 14, 15, 15, 15, 15,  8, 17, 12, 17, 17, 17,\n",
       "       17, 17, 16, 17, 17, 17, 16, 15, 15, 15, 17, 17, 12, 12, 15, 15, 17,\n",
       "       17, 17, 15, 16, 15, 15, 17, 17, 15, 17, 17, 14, 17, 17, 15, 15, 12,\n",
       "       12, 12, 15, 15, 15, 17, 17, 15, 15, 17, 15, 10, 12, 15, 12, 17, 15,\n",
       "        2, 17, 15, 17, 17, 15, 15, 15, 15,  2, 17, 12, 15, 12, 15, 12, 12,\n",
       "       17, 17, 17, 15, 12, 15, 17, 15, 17, 15, 15, 15,  2, 17, 17, 17, 17,\n",
       "       15, 15, 15, 15, 15, 17, 17, 15, 17, 15, 15, 15, 15,  2, 15, 15,  2,\n",
       "       17, 15, 15, 15, 12, 15, 15, 17, 15,  2, 15, 15, 15,  2, 15, 17, 14,\n",
       "       12, 12,  2,  2, 15, 17, 15,  2, 15, 15, 12, 15, 17, 15, 10, 17, 17,\n",
       "       17, 17, 17, 15, 15, 15, 17, 17, 17, 15, 15, 17, 15, 15, 17, 12, 15,\n",
       "       17, 17, 17, 15,  2, 15, 17, 17, 15, 15, 15, 17, 12, 12, 17, 12, 17,\n",
       "       12, 17, 17, 12, 17, 12, 17, 18, 15, 17, 15, 17, 17, 17, 17, 15, 15,\n",
       "       15, 17, 15, 17, 15, 17, 17, 15, 15, 14, 15, 15, 12, 15,  2, 17])"
      ]
     },
     "execution_count": 21,
     "metadata": {},
     "output_type": "execute_result"
    }
   ],
   "source": [
    "leaf_id"
   ]
  },
  {
   "cell_type": "code",
   "execution_count": null,
   "metadata": {},
   "outputs": [],
   "source": []
  }
 ],
 "metadata": {
  "kernelspec": {
   "display_name": "dtree-py3",
   "language": "python",
   "name": "dtree-py3"
  },
  "language_info": {
   "codemirror_mode": {
    "name": "ipython",
    "version": 3
   },
   "file_extension": ".py",
   "mimetype": "text/x-python",
   "name": "python",
   "nbconvert_exporter": "python",
   "pygments_lexer": "ipython3",
   "version": "3.7.3"
  },
  "toc": {
   "nav_menu": {},
   "number_sections": true,
   "sideBar": true,
   "skip_h1_title": false,
   "title_cell": "Table of Contents",
   "title_sidebar": "Contents",
   "toc_cell": false,
   "toc_position": {},
   "toc_section_display": true,
   "toc_window_display": false
  }
 },
 "nbformat": 4,
 "nbformat_minor": 2
}
